{
 "cells": [
  {
   "cell_type": "code",
   "execution_count": 2,
   "metadata": {},
   "outputs": [],
   "source": [
    "import polars as pl\n",
    "from blueskyranker.ranker import  TopicRanker"
   ]
  },
  {
   "cell_type": "code",
   "execution_count": 2,
   "metadata": {},
   "outputs": [],
   "source": [
    "data = pl.read_csv(\"news-flows-nl_bsky_social_author_feed.csv\").to_dicts()\n"
   ]
  },
  {
   "cell_type": "code",
   "execution_count": 3,
   "metadata": {},
   "outputs": [
    {
     "output_type": "stream",
     "name": "stderr",
     "text": [
      "16:59:01 DEBUG    Creating cosine similarity matrix...\n",
      "16:59:02 DEBUG    Removing all entries below a threshold of 0.2\n",
      "16:59:02 DEBUG    The new matrix is 99.69% sparse\n",
      "16:59:02 DEBUG    Creating a graph\n",
      "16:59:04 DEBUG    Apply network clustering using the Leiden Algorithm\n",
      "16:59:04 DEBUG    The 3065 items were grouped into 1013 clusters.\n"
     ]
    }
   ],
   "source": [
    "myranker = TopicRanker(returnformat='dataframe', method = 'networkclustering-tfidf')\n",
    "ranking = myranker.rank(data)\n"
   ]
  },
  {
   "cell_type": "code",
   "execution_count": 4,
   "metadata": {},
   "outputs": [
    {
     "output_type": "execute_result",
     "data": {
      "text/plain": [
       "shape: (3_065, 25)\n",
       "┌───────────┬───────────┬───────────┬───────────┬───┬───────────┬───────────┬───────────┬──────────┐\n",
       "│ uri       ┆ cid       ┆ author_ha ┆ author_di ┆ … ┆ cluster_r ┆ cluster_s ┆ cluster_e ┆ cluster_ │\n",
       "│ ---       ┆ ---       ┆ ndle      ┆ d         ┆   ┆ epost_cou ┆ ize       ┆ ngagement ┆ engageme │\n",
       "│ str       ┆ str       ┆ ---       ┆ ---       ┆   ┆ nt        ┆ ---       ┆ _count    ┆ nt_rank  │\n",
       "│           ┆           ┆ str       ┆ str       ┆   ┆ ---       ┆ i64       ┆ ---       ┆ ---      │\n",
       "│           ┆           ┆           ┆           ┆   ┆ i64       ┆           ┆ i64       ┆ i64      │\n",
       "╞═══════════╪═══════════╪═══════════╪═══════════╪═══╪═══════════╪═══════════╪═══════════╪══════════╡\n",
       "│ at://did: ┆ bafyreihx ┆ news-flow ┆ did:plc:t ┆ … ┆ 1         ┆ 48        ┆ 3         ┆ 1        │\n",
       "│ plc:toz4n ┆ 2jvoikv3e ┆ s-nl.bsky ┆ oz4no26o2 ┆   ┆           ┆           ┆           ┆          │\n",
       "│ o26o2x4vs ┆ r2z2xbtb6 ┆ .social   ┆ x4vsbum7c ┆   ┆           ┆           ┆           ┆          │\n",
       "│ bum…      ┆ pm7…      ┆           ┆ p4b…      ┆   ┆           ┆           ┆           ┆          │\n",
       "│ at://did: ┆ bafyreicv ┆ news-flow ┆ did:plc:t ┆ … ┆ 0         ┆ 27        ┆ 3         ┆ 2        │\n",
       "│ plc:toz4n ┆ 3uc3dsys4 ┆ s-nl.bsky ┆ oz4no26o2 ┆   ┆           ┆           ┆           ┆          │\n",
       "│ o26o2x4vs ┆ 47t3u4syg ┆ .social   ┆ x4vsbum7c ┆   ┆           ┆           ┆           ┆          │\n",
       "│ bum…      ┆ y5i…      ┆           ┆ p4b…      ┆   ┆           ┆           ┆           ┆          │\n",
       "│ at://did: ┆ bafyreieu ┆ news-flow ┆ did:plc:t ┆ … ┆ 0         ┆ 38        ┆ 3         ┆ 3        │\n",
       "│ plc:toz4n ┆ kbwaxesnu ┆ s-nl.bsky ┆ oz4no26o2 ┆   ┆           ┆           ┆           ┆          │\n",
       "│ o26o2x4vs ┆ 5poeowptk ┆ .social   ┆ x4vsbum7c ┆   ┆           ┆           ┆           ┆          │\n",
       "│ bum…      ┆ mrs…      ┆           ┆ p4b…      ┆   ┆           ┆           ┆           ┆          │\n",
       "│ at://did: ┆ bafyreie2 ┆ news-flow ┆ did:plc:t ┆ … ┆ 1         ┆ 7         ┆ 2         ┆ 4        │\n",
       "│ plc:toz4n ┆ inmdwhcbk ┆ s-nl.bsky ┆ oz4no26o2 ┆   ┆           ┆           ┆           ┆          │\n",
       "│ o26o2x4vs ┆ i7c6ozjih ┆ .social   ┆ x4vsbum7c ┆   ┆           ┆           ┆           ┆          │\n",
       "│ bum…      ┆ b5a…      ┆           ┆ p4b…      ┆   ┆           ┆           ┆           ┆          │\n",
       "│ at://did: ┆ bafyreieh ┆ news-flow ┆ did:plc:t ┆ … ┆ 0         ┆ 3         ┆ 2         ┆ 5        │\n",
       "│ plc:toz4n ┆ zrtbdiudz ┆ s-nl.bsky ┆ oz4no26o2 ┆   ┆           ┆           ┆           ┆          │\n",
       "│ o26o2x4vs ┆ y3xe32dod ┆ .social   ┆ x4vsbum7c ┆   ┆           ┆           ┆           ┆          │\n",
       "│ bum…      ┆ rzy…      ┆           ┆ p4b…      ┆   ┆           ┆           ┆           ┆          │\n",
       "│ …         ┆ …         ┆ …         ┆ …         ┆ … ┆ …         ┆ …         ┆ …         ┆ …        │\n",
       "│ at://did: ┆ bafyreihy ┆ news-flow ┆ did:plc:t ┆ … ┆ 0         ┆ 199       ┆ 1         ┆ 11       │\n",
       "│ plc:toz4n ┆ lmulje23a ┆ s-nl.bsky ┆ oz4no26o2 ┆   ┆           ┆           ┆           ┆          │\n",
       "│ o26o2x4vs ┆ 5lpenoxjh ┆ .social   ┆ x4vsbum7c ┆   ┆           ┆           ┆           ┆          │\n",
       "│ bum…      ┆ whp…      ┆           ┆ p4b…      ┆   ┆           ┆           ┆           ┆          │\n",
       "│ at://did: ┆ bafyreiez ┆ news-flow ┆ did:plc:t ┆ … ┆ 0         ┆ 199       ┆ 1         ┆ 11       │\n",
       "│ plc:toz4n ┆ k6hzhqara ┆ s-nl.bsky ┆ oz4no26o2 ┆   ┆           ┆           ┆           ┆          │\n",
       "│ o26o2x4vs ┆ njg2ts45w ┆ .social   ┆ x4vsbum7c ┆   ┆           ┆           ┆           ┆          │\n",
       "│ bum…      ┆ quy…      ┆           ┆ p4b…      ┆   ┆           ┆           ┆           ┆          │\n",
       "│ at://did: ┆ bafyreidy ┆ news-flow ┆ did:plc:t ┆ … ┆ 0         ┆ 199       ┆ 1         ┆ 11       │\n",
       "│ plc:toz4n ┆ a3kxjtmmv ┆ s-nl.bsky ┆ oz4no26o2 ┆   ┆           ┆           ┆           ┆          │\n",
       "│ o26o2x4vs ┆ yhxuyxatv ┆ .social   ┆ x4vsbum7c ┆   ┆           ┆           ┆           ┆          │\n",
       "│ bum…      ┆ 22t…      ┆           ┆ p4b…      ┆   ┆           ┆           ┆           ┆          │\n",
       "│ at://did: ┆ bafyreiab ┆ news-flow ┆ did:plc:t ┆ … ┆ 0         ┆ 199       ┆ 1         ┆ 11       │\n",
       "│ plc:toz4n ┆ j5i2zktls ┆ s-nl.bsky ┆ oz4no26o2 ┆   ┆           ┆           ┆           ┆          │\n",
       "│ o26o2x4vs ┆ d2fzwtwwk ┆ .social   ┆ x4vsbum7c ┆   ┆           ┆           ┆           ┆          │\n",
       "│ bum…      ┆ vat…      ┆           ┆ p4b…      ┆   ┆           ┆           ┆           ┆          │\n",
       "│ at://did: ┆ bafyreia5 ┆ news-flow ┆ did:plc:t ┆ … ┆ 0         ┆ 199       ┆ 1         ┆ 11       │\n",
       "│ plc:toz4n ┆ oeguen26l ┆ s-nl.bsky ┆ oz4no26o2 ┆   ┆           ┆           ┆           ┆          │\n",
       "│ o26o2x4vs ┆ e2hctu7h3 ┆ .social   ┆ x4vsbum7c ┆   ┆           ┆           ┆           ┆          │\n",
       "│ bum…      ┆ suw…      ┆           ┆ p4b…      ┆   ┆           ┆           ┆           ┆          │\n",
       "└───────────┴───────────┴───────────┴───────────┴───┴───────────┴───────────┴───────────┴──────────┘"
      ],
      "text/html": "<div><style>\n.dataframe > thead > tr,\n.dataframe > tbody > tr {\n  text-align: right;\n  white-space: pre-wrap;\n}\n</style>\n<small>shape: (3_065, 25)</small><table border=\"1\" class=\"dataframe\"><thead><tr><th>uri</th><th>cid</th><th>author_handle</th><th>author_did</th><th>indexedAt</th><th>createdAt</th><th>text</th><th>reply_root_uri</th><th>reply_parent_uri</th><th>is_repost</th><th>like_count</th><th>repost_count</th><th>reply_count</th><th>quote_count</th><th>news_title</th><th>news_description</th><th>news_uri</th><th>cluster</th><th>cluster_like_count</th><th>cluster_reply_count</th><th>cluster_quote_count</th><th>cluster_repost_count</th><th>cluster_size</th><th>cluster_engagement_count</th><th>cluster_engagement_rank</th></tr><tr><td>str</td><td>str</td><td>str</td><td>str</td><td>str</td><td>str</td><td>str</td><td>null</td><td>null</td><td>i64</td><td>i64</td><td>i64</td><td>i64</td><td>i64</td><td>str</td><td>str</td><td>str</td><td>i64</td><td>i64</td><td>i64</td><td>i64</td><td>i64</td><td>i64</td><td>i64</td><td>i64</td></tr></thead><tbody><tr><td>&quot;at://did:plc:toz4no26o2x4vsbum…</td><td>&quot;bafyreihx2jvoikv3er2z2xbtb6pm7…</td><td>&quot;news-flows-nl.bsky.social&quot;</td><td>&quot;did:plc:toz4no26o2x4vsbum7cp4b…</td><td>&quot;2025-08-19T09:06:46.904Z&quot;</td><td>&quot;2025-08-19T09:01:41.000000Z&quot;</td><td>&quot;150 km/u op de snelweg: eerste…</td><td>null</td><td>null</td><td>0</td><td>1</td><td>0</td><td>0</td><td>0</td><td>&quot;150 km/u op de snelweg: eerste…</td><td>&quot;Automobilisten die graag het g…</td><td>&quot;https://www.rtl.nl/nieuws/buit…</td><td>6</td><td>2</td><td>0</td><td>0</td><td>1</td><td>48</td><td>3</td><td>1</td></tr><tr><td>&quot;at://did:plc:toz4no26o2x4vsbum…</td><td>&quot;bafyreicv3uc3dsys447t3u4sygy5i…</td><td>&quot;news-flows-nl.bsky.social&quot;</td><td>&quot;did:plc:toz4no26o2x4vsbum7cp4b…</td><td>&quot;2025-08-19T13:45:33.604Z&quot;</td><td>&quot;2025-08-19T13:30:00.000000Z&quot;</td><td>&quot;Hélène Hendriks hard afgefakke…</td><td>null</td><td>null</td><td>0</td><td>0</td><td>0</td><td>0</td><td>0</td><td>&quot;Hélène Hendriks hard afgefakke…</td><td>&quot;Hélène Hendriks wordt op de ra…</td><td>&quot;https://www.mediacourant.nl/20…</td><td>20</td><td>1</td><td>1</td><td>1</td><td>0</td><td>27</td><td>3</td><td>2</td></tr><tr><td>&quot;at://did:plc:toz4no26o2x4vsbum…</td><td>&quot;bafyreieukbwaxesnu5poeowptkmrs…</td><td>&quot;news-flows-nl.bsky.social&quot;</td><td>&quot;did:plc:toz4no26o2x4vsbum7cp4b…</td><td>&quot;2025-08-19T13:38:27.206Z&quot;</td><td>&quot;2025-08-19T13:14:00.000000Z&quot;</td><td>&quot;KIJK | Zwempartij in Den Haag …</td><td>null</td><td>null</td><td>0</td><td>0</td><td>0</td><td>0</td><td>0</td><td>&quot;KIJK | Zwempartij in Den Haag …</td><td>&quot;De politie is maandag in Den H…</td><td>&quot;https://www.ad.nl/home/kijk-zw…</td><td>11</td><td>1</td><td>1</td><td>1</td><td>0</td><td>38</td><td>3</td><td>3</td></tr><tr><td>&quot;at://did:plc:toz4no26o2x4vsbum…</td><td>&quot;bafyreie2inmdwhcbki7c6ozjihb5a…</td><td>&quot;news-flows-nl.bsky.social&quot;</td><td>&quot;did:plc:toz4no26o2x4vsbum7cp4b…</td><td>&quot;2025-08-16T20:03:13.911Z&quot;</td><td>&quot;2025-08-16T19:40:51.000000Z&quot;</td><td>&quot;Quentin Tarantino schrapte tie…</td><td>null</td><td>null</td><td>0</td><td>1</td><td>1</td><td>0</td><td>0</td><td>&quot;Quentin Tarantino schrapte tie…</td><td>&quot;Quentin Tarantino wilde niet d…</td><td>&quot;https://www.nu.nl/film/6365875…</td><td>65</td><td>1</td><td>0</td><td>0</td><td>1</td><td>7</td><td>2</td><td>4</td></tr><tr><td>&quot;at://did:plc:toz4no26o2x4vsbum…</td><td>&quot;bafyreiehzrtbdiudzy3xe32dodrzy…</td><td>&quot;news-flows-nl.bsky.social&quot;</td><td>&quot;did:plc:toz4no26o2x4vsbum7cp4b…</td><td>&quot;2025-08-19T05:11:48.507Z&quot;</td><td>&quot;2025-08-19T05:00:25.000000Z&quot;</td><td>&quot;Raad mee in De AD-test: zo den…</td><td>null</td><td>null</td><td>0</td><td>0</td><td>0</td><td>1</td><td>0</td><td>&quot;Raad mee in De AD-test: zo den…</td><td>&quot;Zeg je friet of patat? Volg ji…</td><td>&quot;https://www.ad.nl/home/raad-me…</td><td>156</td><td>0</td><td>1</td><td>1</td><td>0</td><td>3</td><td>2</td><td>5</td></tr><tr><td>&hellip;</td><td>&hellip;</td><td>&hellip;</td><td>&hellip;</td><td>&hellip;</td><td>&hellip;</td><td>&hellip;</td><td>&hellip;</td><td>&hellip;</td><td>&hellip;</td><td>&hellip;</td><td>&hellip;</td><td>&hellip;</td><td>&hellip;</td><td>&hellip;</td><td>&hellip;</td><td>&hellip;</td><td>&hellip;</td><td>&hellip;</td><td>&hellip;</td><td>&hellip;</td><td>&hellip;</td><td>&hellip;</td><td>&hellip;</td><td>&hellip;</td></tr><tr><td>&quot;at://did:plc:toz4no26o2x4vsbum…</td><td>&quot;bafyreihylmulje23a5lpenoxjhwhp…</td><td>&quot;news-flows-nl.bsky.social&quot;</td><td>&quot;did:plc:toz4no26o2x4vsbum7cp4b…</td><td>&quot;2025-08-13T05:10:22.805Z&quot;</td><td>&quot;2025-08-13T04:41:59.000000Z&quot;</td><td>&quot;Wekdienst 13/8: EU-leiders vid…</td><td>null</td><td>null</td><td>0</td><td>0</td><td>0</td><td>0</td><td>0</td><td>&quot;Wekdienst 13/8: EU-leiders vid…</td><td>&quot;Nieuws, weer en verkeer: met d…</td><td>&quot;https://nos.nl/artikel/2578494…</td><td>0</td><td>0</td><td>0</td><td>1</td><td>0</td><td>199</td><td>1</td><td>11</td></tr><tr><td>&quot;at://did:plc:toz4no26o2x4vsbum…</td><td>&quot;bafyreiezk6hzhqaranjg2ts45wquy…</td><td>&quot;news-flows-nl.bsky.social&quot;</td><td>&quot;did:plc:toz4no26o2x4vsbum7cp4b…</td><td>&quot;2025-08-13T04:15:05.808Z&quot;</td><td>&quot;2025-08-13T04:04:02.000000Z&quot;</td><td>&quot;Explainer | Poetin en Trump na…</td><td>null</td><td>null</td><td>0</td><td>0</td><td>0</td><td>0</td><td>0</td><td>&quot;Video | Poetin en Trump naar A…</td><td>&quot;Vladimir Poetin zet vrijdag na…</td><td>&quot;https://www.nu.nl/319038/video…</td><td>0</td><td>0</td><td>0</td><td>1</td><td>0</td><td>199</td><td>1</td><td>11</td></tr><tr><td>&quot;at://did:plc:toz4no26o2x4vsbum…</td><td>&quot;bafyreidya3kxjtmmvyhxuyxatv22t…</td><td>&quot;news-flows-nl.bsky.social&quot;</td><td>&quot;did:plc:toz4no26o2x4vsbum7cp4b…</td><td>&quot;2025-08-12T18:47:03.711Z&quot;</td><td>&quot;2025-08-12T18:40:28.000000Z&quot;</td><td>&quot;Zelensky volgens Witte Huis de…</td><td>null</td><td>null</td><td>0</td><td>0</td><td>0</td><td>0</td><td>0</td><td>&quot;Zelensky volgens Witte Huis de…</td><td>&quot;De Amerikaanse president Donal…</td><td>&quot;https://www.nu.nl/spanningen-o…</td><td>0</td><td>0</td><td>0</td><td>1</td><td>0</td><td>199</td><td>1</td><td>11</td></tr><tr><td>&quot;at://did:plc:toz4no26o2x4vsbum…</td><td>&quot;bafyreiabj5i2zktlsd2fzwtwwkvat…</td><td>&quot;news-flows-nl.bsky.social&quot;</td><td>&quot;did:plc:toz4no26o2x4vsbum7cp4b…</td><td>&quot;2025-08-13T02:51:27.407Z&quot;</td><td>&quot;2025-08-12T18:35:38.000000Z&quot;</td><td>&quot;Niet naar Alaska, wel een vide…</td><td>null</td><td>null</td><td>0</td><td>0</td><td>0</td><td>0</td><td>0</td><td>&quot;Niet naar Alaska, wel een vide…</td><td>&quot;EU buitenspel: De VS en Ruslan…</td><td>&quot;https://www.nrc.nl/nieuws/2025…</td><td>0</td><td>0</td><td>0</td><td>1</td><td>0</td><td>199</td><td>1</td><td>11</td></tr><tr><td>&quot;at://did:plc:toz4no26o2x4vsbum…</td><td>&quot;bafyreia5oeguen26le2hctu7h3suw…</td><td>&quot;news-flows-nl.bsky.social&quot;</td><td>&quot;did:plc:toz4no26o2x4vsbum7cp4b…</td><td>&quot;2025-08-12T18:46:52.515Z&quot;</td><td>&quot;2025-08-12T18:31:39.000000Z&quot;</td><td>&quot;Vroeger Russisch, nu Amerikaan…</td><td>null</td><td>null</td><td>0</td><td>0</td><td>0</td><td>0</td><td>0</td><td>&quot;Vroeger Russisch, nu Amerikaan…</td><td>&quot;De uitkomst is nog zeer onzeke…</td><td>&quot;https://www.rtl.nl/nieuws/buit…</td><td>0</td><td>0</td><td>0</td><td>1</td><td>0</td><td>199</td><td>1</td><td>11</td></tr></tbody></table></div>"
     },
     "metadata": {},
     "execution_count": 4
    }
   ],
   "source": [
    "ranking"
   ]
  },
  {
   "cell_type": "code",
   "execution_count": null,
   "metadata": {},
   "outputs": [],
   "source": []
  }
 ],
 "metadata": {
  "kernelspec": {
   "name": "python3",
   "display_name": "Python 3.12.3 64-bit ('.venv')",
   "metadata": {
    "interpreter": {
     "hash": "b918f5f40ef771609552742216f0c8b1ce7e75b8cd29c29759bc5b6b154a8685"
    }
   }
  },
  "language_info": {
   "codemirror_mode": {
    "name": "ipython",
    "version": 3
   },
   "file_extension": ".py",
   "mimetype": "text/x-python",
   "name": "python",
   "nbconvert_exporter": "python",
   "pygments_lexer": "ipython3",
   "version": "3.12.3-final"
  }
 },
 "nbformat": 4,
 "nbformat_minor": 2
}