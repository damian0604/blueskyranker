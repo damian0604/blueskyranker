{
  "cells": [
    {
      "cell_type": "markdown",
      "metadata": {},
      "source": [
        "# Bluesky Ranker — Example Notebook\n",
        "\n",
        "This notebook demonstrates the typical workflow:\n",
        "- Fetch recent public posts into SQLite (upsert-by-URI)\n",
        "- Load posts from SQLite into a Polars DataFrame\n",
        "- Rank posts using the TopicRanker (TF–IDF/Count/SBERT)\n",
        "- Inspect the top clusters and sample posts\n",
        "- (Optional) Generate a per-handle cluster report to Markdown\n"
      ]
    },
    {
      "cell_type": "code",
      "execution_count": null,
      "metadata": {},
      "outputs": [],
      "source": [
        "# Imports and setup\n",
        "import polars as pl\n",
        "from blueskyranker.fetcher import Fetcher, ensure_db, load_posts_df\n",
        "from blueskyranker.ranker import TopicRanker\n"
      ]
    },
    {
      "cell_type": "markdown",
      "metadata": {},
      "source": [
        "## 1) Fetch recent posts into SQLite\n",
        "\n",
        "- Adjust `--max-age-days` to control the time window.\n",
        "- Upsert ensures engagement metrics refresh over time.\n",
        "- You can also call the fetcher via CLI if you prefer.\n"
      ]
    },
    {
      "cell_type": "code",
      "execution_count": null,
      "metadata": {},
      "outputs": [],
      "source": [
        "fetcher = Fetcher()\n",
        "result = fetcher.fetch(max_age_days=7)  # change to your needs\n",
        "print(result)\n"
      ]
    },
    {
      "cell_type": "markdown",
      "metadata": {},
      "source": [
        "## 2) Load posts from SQLite\n",
        "\n",
        "- Choose a handle you want to rank.\n",
        "- You can limit rows or change ordering as needed.\n"
      ]
    },
    {
      "cell_type": "code",
      "execution_count": null,
      "metadata": {},
      "outputs": [],
      "source": [
        "conn = ensure_db('newsflows.db')\n",
        "handle = 'news-flows-nl.bsky.social'  # pick one of your handles\n",
        "data = load_posts_df(conn, handle=handle, limit=2000, order_by='createdAt', descending=False)\n",
        "data.head()\n"
      ]
    },
    {
      "cell_type": "markdown",
      "metadata": {},
      "source": [
        "## 3) Rank posts by topic\n",
        "\n",
        "- Methods: `networkclustering-tfidf`, `networkclustering-count`, `networkclustering-sbert` (slower, higher semantic quality).\n",
        "- `similarity_threshold`: raise for fewer/tighter clusters.\n",
        "- `vectorizer_stopwords`: 'english' | list of words | None.\n"
      ]
    },
    {
      "cell_type": "code",
      "execution_count": null,
      "metadata": {},
      "outputs": [],
      "source": [
        "ranker = TopicRanker(\n",
        "    returnformat='dataframe',\n",
        "    method='networkclustering-tfidf',  # try 'networkclustering-sbert' for semantics\n",
        "    descending=True,\n",
        "    similarity_threshold=0.2,\n",
        "    vectorizer_stopwords='english',\n",
        "    # Optional windows (days):\n",
        "    cluster_window_days=7,\n",
        "    engagement_window_days=3,\n",
        "    push_window_days=1,\n",
        ")\n",
        "ranking = ranker.rank(data)\n",
        "ranking.head()\n"
      ]
    },
    {
      "cell_type": "markdown",
      "metadata": {},
      "source": [
        "## 4) Inspect top clusters and posts\n",
        "\n",
        "- We show the 3 most engaged clusters.\n",
        "- For each, we list the 5 most recent posts with key fields.\n"
      ]
    },
    {
      "cell_type": "code",
      "execution_count": null,
      "metadata": {},
      "outputs": [],
      "source": [
        "clusters = (\n",
        "    ranking.group_by('cluster')\n",
        "    .agg([\n",
        "        pl.col('cluster_size').first().alias('size'),\n",
        "        pl.col('cluster_engagement_count').first().alias('engagement')\n",
        "    ])\n",
        "    .sort('engagement', descending=True)\n",
        "    .head(3)\n",
        ")\n",
        "for row in clusters.iter_rows(named=True):\n",
        "    cid = row['cluster']\n",
        "    size = int(row['size']) if row['size'] is not None else 0\n",
        "    eng = int(row['engagement']) if row['engagement'] is not None else 0\n",
        "    print(f\"\\n=== Cluster {cid} | size={size} | engagement={eng}\")\n",
        "    subset = (\n",
        "        ranking.filter(pl.col('cluster') == cid)\n",
        "        .sort('createdAt', descending=True)\n",
        "        .head(5)\n",
        "    )\n",
        "    for rec in subset.select(['uri','text','news_title','news_description','news_uri']).iter_rows(named=True):\n",
        "        print(f\"- uri: {rec['uri']}\")\n",
        "        print(f\"  text: {rec.get('text')}\")\n",
        "        print(f\"  news_title: {rec.get('news_title')}\")\n",
        "        print(f\"  news_description: {rec.get('news_description')}\")\n",
        "        print(f\"  news_uri: {rec.get('news_uri')}\")\n"
      ]
    },
    {
      "cell_type": "markdown",
      "metadata": {},
      "source": [
        "## 5) (Optional) Generate a cluster report\n",
        "\n",
        "- This writes `cluster_report.md` with top clusters per handle.\n",
        "- You can adjust method, threshold, and stopwords.\n"
      ]
    },
    {
      "cell_type": "markdown",
      "metadata": {},
      "source": [
        "## 6) (Optional) End-to-end: fetch → rank → push (per handle)\n",
        "\n",
        "- Runs the whole flow and logs a short cluster summary to `push.log`.\n"
      ]
    },
    {
      "cell_type": "code",
      "execution_count": null,
      "metadata": {},
      "outputs": [],
      "source": [
        "from blueskyranker.pipeline import run_fetch_rank_push\n",
        "run_fetch_rank_push(\n",
        "    handles=[handle],\n",
        "    method='networkclustering-tfidf', similarity_threshold=0.2,\n",
        "    cluster_window_days=7, engagement_window_days=3, push_window_days=1,\n",
        "    include_pins=False, test=True, log_path='push.log'\n",
        ")\n"
      ]
    },
    {
      "cell_type": "code",
      "execution_count": null,
      "metadata": {},
      "outputs": [],
      "source": [
        "from blueskyranker.cluster_report import generate_cluster_report\n",
        "generate_cluster_report(db_path='newsflows.db', output_path='cluster_report.md',\n",
        "                        method='networkclustering-sbert', sample_max=300,\n",
        "                        similarity_threshold=0.2, vectorizer_stopwords='english')\n",
        "print('Wrote cluster_report.md')\n"
      ]
    }
  ],
  "metadata": {
    "kernelspec": {
      "display_name": "bskyranker",
      "language": "python",
      "name": "python3"
    },
    "language_info": {
      "name": "python",
      "version": "3.11.13"
    }
  },
  "nbformat": 4,
  "nbformat_minor": 5
}
